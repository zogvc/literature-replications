{
 "cells": [
  {
   "cell_type": "markdown",
   "id": "3adb5c9f-5817-4ce5-8f9f-cad098f08f36",
   "metadata": {},
   "source": [
    "# **Loan Portfolios and Similarity Measures**"
   ]
  },
  {
   "cell_type": "code",
   "execution_count": 23,
   "id": "404c3723-6f78-4f62-bc3d-573d995133c3",
   "metadata": {},
   "outputs": [],
   "source": [
    "# [Description] Import packages.\n",
    "\n",
    "import numpy as np\n",
    "import pandas as pd\n",
    "\n",
    "import matplotlib.pyplot as plt\n",
    "\n",
    "import itertools as it"
   ]
  },
  {
   "cell_type": "code",
   "execution_count": 5,
   "id": "7fef750f-c7cb-4dce-b2ed-94aabc1a1591",
   "metadata": {},
   "outputs": [],
   "source": [
    "def normalize(arr, axis=1):\n",
    "    \"\"\"\n",
    "    행렬의 원소들을 합이 1이 되도록 변환합니다.\n",
    "\n",
    "    Args:\n",
    "        arr: Numpy 행렬\n",
    "        axis: 합을 계산할 축 (0: 행, 1: 열)\n",
    "        \n",
    "    Returns:\n",
    "        변환된 행렬\n",
    "    \"\"\"\n",
    "    sums = np.sum(arr, axis=axis)\n",
    "    \n",
    "    return arr / sums[:, None]"
   ]
  },
  {
   "cell_type": "code",
   "execution_count": 68,
   "id": "8ac7fd2a-2a61-4255-9c77-5c42744590cb",
   "metadata": {},
   "outputs": [],
   "source": [
    "# [Description] Generate an arbitrary loan portfolio matrix for simulation.\n",
    "\n",
    "N = 20 # the number of banks\n",
    "K = 15 # the number of assets\n",
    "T = np.arange(20) + 1 # the list of time index\n",
    "\n",
    "A = dict() # A list of loan portfolio matrix (not normalized)\n",
    "W = dict() # A list of loan portfolio matrix\n",
    "\n",
    "# Generate an arbitrary loan portfolio matrix for each time period.\n",
    "for t in T:\n",
    "    rl = np.random.rand(N, K) # an arbitrary loan values of N banks and K assets.\n",
    "    A[t] = pd.DataFrame(rl)\n",
    "    W[t] = pd.DataFrame(normalize(rl))"
   ]
  },
  {
   "cell_type": "markdown",
   "id": "743f3913-7cc8-4cf1-a74b-d04bb9d96251",
   "metadata": {},
   "source": [
    "## **The Generalized Jaccard Similarity**"
   ]
  },
  {
   "cell_type": "markdown",
   "id": "563b53ec-d5ad-4937-b078-fe34fab2dfc9",
   "metadata": {},
   "source": [
    "$$ GenJacc^{t}_{i,j} = \\frac{ \\sum\\limits^{K}_{k=1} \\min(w^{t}_{i,k}, w^{t}_{j,k}) }{ \\sum\\limits^{K}_{k=1} \\max(w^{t}_{i,k}, w^{t}_{j,k}) } \\tag{1}$$"
   ]
  },
  {
   "cell_type": "code",
   "execution_count": 79,
   "id": "152b3c12-cb8b-44dc-8744-0aa42290a161",
   "metadata": {},
   "outputs": [],
   "source": [
    "# [Description] Define the function of measures of portfolio simialarity - 1 : The Generalized Jaccard Similarity.\n",
    "\n",
    "def genJacc(w):\n",
    "    \"\"\"\n",
    "    \n",
    "    \"\"\"\n",
    "    banks = it.combinations(w.index, 2)\n",
    "    assets = w.columns\n",
    "\n",
    "    genJaccList = []\n",
    "\n",
    "    for i, j in banks:\n",
    "        sumMin = 0\n",
    "        sumMax = 0\n",
    "\n",
    "        for k in assets:\n",
    "            wMin = np.min([w.loc[i, k], w.loc[j, k]])\n",
    "            wMax = np.max([w.loc[i, k], w.loc[j, k]])\n",
    "    \n",
    "            sumMin += wMin\n",
    "            sumMax += wMax\n",
    "\n",
    "        genJacc = sumMin / sumMax\n",
    "\n",
    "        genJaccList.append(genJacc)\n",
    "    \n",
    "    return genJaccList"
   ]
  },
  {
   "cell_type": "code",
   "execution_count": 80,
   "id": "25c5ed4b-a104-435e-bf43-4cda2ce6f545",
   "metadata": {},
   "outputs": [],
   "source": [
    "# [Description] Simulated - Compute the mean of Generalized Jaccard Similarity each period.\n",
    "\n",
    "genJaccMeans = []\n",
    "\n",
    "for t in T:\n",
    "    genJaccMeans.append(np.mean(genJacc(W[t])))\n",
    "\n",
    "genJaccMeans = pd.DataFrame(genJaccMeans, index=T)"
   ]
  },
  {
   "cell_type": "markdown",
   "id": "065f2bfd-7d4a-4ef2-9c5c-0c09e49d646b",
   "metadata": {},
   "source": [
    "## **The Euclidean Distance**"
   ]
  },
  {
   "cell_type": "markdown",
   "id": "58acf8a0-c26f-4c4b-a0ce-5fdd670e8d1c",
   "metadata": {},
   "source": [
    "$$ Distance^{t}_{i, j} = \\sqrt{ \\sum\\limits^{K}_{k=1} (w^{t}_{i,k} - w^{t}_{j,k})^2 } \\tag{2} $$\n",
    "\n",
    "$$ SimDist^{t}_{i, j} = \\frac{1}{1 + Distance^{t}_{i,j}} \\tag{3} $$"
   ]
  },
  {
   "cell_type": "code",
   "execution_count": 76,
   "id": "350ac050-c380-4eb3-a8e0-61f55fafcdfa",
   "metadata": {},
   "outputs": [],
   "source": [
    "# [Description] Define the function of measures of portfolio simialarity - 2 : The Similarity Distance.\n",
    "\n",
    "def simDist(w):\n",
    "    \"\"\"\n",
    "    \n",
    "    \"\"\"\n",
    "    banks = it.combinations(w.index, 2)\n",
    "    assets = w.columns\n",
    "    \n",
    "    simDistList = []\n",
    "    \n",
    "    for i, j in banks:\n",
    "        \n",
    "        sumDist = 0\n",
    "        \n",
    "        for k in assets:\n",
    "            dist = (w.loc[i, k] - w.loc[j, k]) ** 2\n",
    "            sumDist += dist\n",
    "        \n",
    "        sumDist = np.sqrt(sumDist)\n",
    "        \n",
    "        simDistList.append(1 / (1 + sumDist))\n",
    "    \n",
    "    return simDistList"
   ]
  },
  {
   "cell_type": "code",
   "execution_count": 77,
   "id": "76f5ac55-1374-48ac-8a6d-9a9777530217",
   "metadata": {},
   "outputs": [],
   "source": [
    "# [Description] Simulated - Compute the mean of Similarity Distance each period.\n",
    "\n",
    "simDistMeans = []\n",
    "\n",
    "for t in T:\n",
    "    simDistMeans.append(np.mean(simDist(W[t])))\n",
    "\n",
    "simDistMeans = pd.DataFrame(simDistMeans, index=T)"
   ]
  },
  {
   "cell_type": "markdown",
   "id": "641711cd-ebd6-4240-b04b-be161516f348",
   "metadata": {},
   "source": [
    "## **The Connectedness of Differenct Assets**"
   ]
  },
  {
   "cell_type": "markdown",
   "id": "2bad4a7e-c1e3-41a2-b483-10f2f6a7e768",
   "metadata": {},
   "source": [
    "$$Connected^{t}_{i,j} = \\frac{ \\sum\\limits_{k \\in \\mathcal{H}^{t}_{i,j}} (w^{t}_{i,k} A^{t}_{i} + w^{t}_{j,k} A^{t}_{j}) }{ A^{t}_{i} + A^{t}_{j} } \\tag{4}$$"
   ]
  },
  {
   "cell_type": "code",
   "execution_count": 112,
   "id": "9d91422e-adf9-4b93-b287-0e4d166677a2",
   "metadata": {},
   "outputs": [],
   "source": [
    "# [Description] Define the function of measures of portfolio simialarity - 3 : The Connectedness.\n",
    "\n",
    "def connected(w, a):\n",
    "    \"\"\"\n",
    "    \n",
    "    \"\"\"\n",
    "    pValue = a.sum(axis=1) # loan portfolio value of banks\n",
    "    banks = it.combinations(w.index, 2)\n",
    "    assets = w.columns\n",
    "    \n",
    "    conList = []\n",
    "    \n",
    "    for i, j in banks:\n",
    "        \n",
    "        ai = pValue.loc[i]\n",
    "        aj = pValue.loc[j]\n",
    "        \n",
    "        sumCon = 0\n",
    "        \n",
    "        for k in assets:\n",
    "            wi = w.loc[i, k]\n",
    "            wj = w.loc[j, k]\n",
    "            \n",
    "            if wi * wj > 0:\n",
    "                sumCon += wi * ai + wj * aj\n",
    "        \n",
    "        conList.append(sumCon / (ai + aj))\n",
    "    \n",
    "    return conList\n",
    "                "
   ]
  },
  {
   "cell_type": "code",
   "execution_count": 113,
   "id": "c4d23dc2-4152-4b66-913f-05ca64c188a2",
   "metadata": {},
   "outputs": [],
   "source": [
    "# [Description] Simulated - Compute the mean of Similarity Distance each period.\n",
    "\n",
    "conMeans = []\n",
    "\n",
    "for t in T:\n",
    "    conMeans.append(np.mean(connected(W[t], A[t])))\n",
    "\n",
    "conMeans = pd.DataFrame(conMeans, index=T)"
   ]
  },
  {
   "cell_type": "markdown",
   "id": "cec8c2c8-eed0-4b97-86d8-0ca2e08bbd11",
   "metadata": {},
   "source": [
    "## **The Cosine Similarity**"
   ]
  },
  {
   "cell_type": "markdown",
   "id": "abb3f361-2889-42db-aff4-7ccec975d055",
   "metadata": {},
   "source": [
    "$$ CoSim^{t}_{i,j} = \\frac{ \\sum\\limits^{K}_{k=1} w^{t}_{i,k} w^{t}_{j,k} }{ \\sqrt{\\sum\\limits^{K}_{k=1} (w^{t}_{i,k})^2} \\sqrt{\\sum\\limits^{K}_{k=1} (w^{t}_{j,k})^2} } \\tag{5} $$"
   ]
  },
  {
   "cell_type": "code",
   "execution_count": 73,
   "id": "8de223b0-8ce7-4946-8ba0-d504a5c731a6",
   "metadata": {},
   "outputs": [],
   "source": [
    "# [Description] Define the function of measures of portfolio simialarity - 3 : The Cosine Similarity.\n",
    "\n",
    "def coSim(w):\n",
    "    \"\"\"\n",
    "    \n",
    "    \"\"\"\n",
    "    banks = it.combinations(w.index, 2)\n",
    "    assets = w.columns\n",
    "    \n",
    "    coSimList = []\n",
    "    \n",
    "    for i, j in banks:\n",
    "        \n",
    "        sumx = 0\n",
    "        sumi = 0\n",
    "        sumj = 0\n",
    "        \n",
    "        for k in assets:\n",
    "            sumx += w.loc[i, k] * w.loc[j, k]\n",
    "            sumi += w.loc[i, k] ** 2\n",
    "            sumj += w.loc[j, k] ** 2\n",
    "        \n",
    "        coSim = sumx / (np.sqrt(sumi) * np.sqrt(sumj))\n",
    "        \n",
    "        coSimList.append(coSim)\n",
    "    \n",
    "    return coSimList"
   ]
  },
  {
   "cell_type": "code",
   "execution_count": 74,
   "id": "1a5b5e3e-bbaa-422a-9817-b0eea699b033",
   "metadata": {},
   "outputs": [],
   "source": [
    "# [Description] Simulated - Compute the mean of Similarity Distance each period.\n",
    "\n",
    "coSimMeans = []\n",
    "\n",
    "for t in T:\n",
    "    coSimMeans.append(np.mean(coSim(W[t])))\n",
    "\n",
    "coSimMeans = pd.DataFrame(coSimMeans, index=T)"
   ]
  },
  {
   "cell_type": "markdown",
   "id": "ce489f1e-b22b-45a0-8a22-afccef77461f",
   "metadata": {},
   "source": [
    "## **Visualization**"
   ]
  },
  {
   "cell_type": "markdown",
   "id": "2966231d-4f05-4faf-b845-66ed7794a286",
   "metadata": {},
   "source": [
    "- Plot all four measures in one plot."
   ]
  },
  {
   "cell_type": "code",
   "execution_count": 127,
   "id": "d6942658-18c4-48a4-a7ae-3054805f1024",
   "metadata": {},
   "outputs": [
    {
     "data": {
      "image/png": "[encoded data removed]",
      "text/plain": [
       "<Figure size 640x480 with 1 Axes>"
      ]
     },
     "metadata": {},
     "output_type": "display_data"
    }
   ],
   "source": [
    "data = pd.concat([genJaccMeans, simDistMeans, conMeans, coSimMeans], axis=1)\n",
    "data.columns = ['genJacc', 'simDist', 'connect', 'coSim']\n",
    "\n",
    "fig, ax = plt.subplots()\n",
    "\n",
    "ax.axhline(1, color='darkgray')\n",
    "ax.plot(data.genJacc / data.genJacc.iloc[0], label='GenJacc', color='crimson')\n",
    "ax.plot(data.simDist / data.simDist.iloc[0], label='SimDist', color='orange')\n",
    "ax.plot(data.connect / data.connect.iloc[0], label='Connected', color='darkgreen')\n",
    "ax.plot(data.coSim / data.coSim.iloc[0], label='CoSim', color='navy')\n",
    "\n",
    "ax.set_axisbelow(True)\n",
    "ax.legend(framealpha=0, loc='upper left', bbox_to_anchor=(1,0.9), scatterpoints=1)\n",
    "ax.set_xlabel('Year')\n",
    "ax.set_ylabel(f'Similarity - indexed ({data.index[0]} = 1)')\n",
    "ax.grid(axis='y', color='lightgray')\n",
    "ax.set_title('Industry')\n",
    "ax.spines[\"right\"].set_visible(False)\n",
    "ax.spines[\"top\"].set_visible(False)\n",
    "ax.spines[\"left\"].set_visible(False)\n",
    "ax.set_facecolor('#FCFCFC')\n",
    "\n",
    "\n",
    "\n",
    "fig.tight_layout()"
   ]
  },
  {
   "cell_type": "code",
   "execution_count": 118,
   "id": "0e62d338-a0c7-4fb4-b49d-06bb6fdd385a",
   "metadata": {},
   "outputs": [
    {
     "data": {
      "text/html": [
       "<div>\n",
       "<style scoped>\n",
       "    .dataframe tbody tr th:only-of-type {\n",
       "        vertical-align: middle;\n",
       "    }\n",
       "\n",
       "    .dataframe tbody tr th {\n",
       "        vertical-align: top;\n",
       "    }\n",
       "\n",
       "    .dataframe thead th {\n",
       "        text-align: right;\n",
       "    }\n",
       "</style>\n",
       "<table border=\"1\" class=\"dataframe\">\n",
       "  <thead>\n",
       "    <tr style=\"text-align: right;\">\n",
       "      <th></th>\n",
       "      <th>genJacc</th>\n",
       "      <th>simDist</th>\n",
       "      <th>connect</th>\n",
       "      <th>coSim</th>\n",
       "    </tr>\n",
       "  </thead>\n",
       "  <tbody>\n",
       "    <tr>\n",
       "      <th>genJacc</th>\n",
       "      <td>1.000000</td>\n",
       "      <td>0.994959</td>\n",
       "      <td>NaN</td>\n",
       "      <td>0.994571</td>\n",
       "    </tr>\n",
       "    <tr>\n",
       "      <th>simDist</th>\n",
       "      <td>0.994959</td>\n",
       "      <td>1.000000</td>\n",
       "      <td>NaN</td>\n",
       "      <td>0.997567</td>\n",
       "    </tr>\n",
       "    <tr>\n",
       "      <th>connect</th>\n",
       "      <td>NaN</td>\n",
       "      <td>NaN</td>\n",
       "      <td>NaN</td>\n",
       "      <td>NaN</td>\n",
       "    </tr>\n",
       "    <tr>\n",
       "      <th>coSim</th>\n",
       "      <td>0.994571</td>\n",
       "      <td>0.997567</td>\n",
       "      <td>NaN</td>\n",
       "      <td>1.000000</td>\n",
       "    </tr>\n",
       "  </tbody>\n",
       "</table>\n",
       "</div>"
      ],
      "text/plain": [
       "          genJacc   simDist  connect     coSim\n",
       "genJacc  1.000000  0.994959      NaN  0.994571\n",
       "simDist  0.994959  1.000000      NaN  0.997567\n",
       "connect       NaN       NaN      NaN       NaN\n",
       "coSim    0.994571  0.997567      NaN  1.000000"
      ]
     },
     "execution_count": 118,
     "metadata": {},
     "output_type": "execute_result"
    }
   ],
   "source": [
    "data.corr()"
   ]
  },
  {
   "cell_type": "code",
   "execution_count": null,
   "id": "b654ff0d-d59b-40b8-86ac-0b5447d306fb",
   "metadata": {},
   "outputs": [],
   "source": []
  }
 ],
 "metadata": {
  "kernelspec": {
   "display_name": "Python 3 (ipykernel)",
   "language": "python",
   "name": "python3"
  },
  "language_info": {
   "codemirror_mode": {
    "name": "ipython",
    "version": 3
   },
   "file_extension": ".py",
   "mimetype": "text/x-python",
   "name": "python",
   "nbconvert_exporter": "python",
   "pygments_lexer": "ipython3",
   "version": "3.8.12"
  }
 },
 "nbformat": 4,
 "nbformat_minor": 5
}
